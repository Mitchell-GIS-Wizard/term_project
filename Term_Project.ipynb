{
 "cells": [
  {
   "cell_type": "markdown",
   "id": "27b20e6a-6d2c-4feb-942b-5b9c95b8979a",
   "metadata": {
    "tags": []
   },
   "source": [
    "Step 1: Installing Required Programs"
   ]
  },
  {
   "cell_type": "code",
   "execution_count": 1,
   "id": "0312e009-2667-4190-bb54-446732d0f044",
   "metadata": {
    "collapsed": true,
    "jupyter": {
     "outputs_hidden": true
    },
    "tags": []
   },
   "outputs": [
    {
     "name": "stdout",
     "output_type": "stream",
     "text": [
      "Requirement already satisfied: geopandas in ./venv3.11.1/lib/python3.11/site-packages (0.12.2)\n",
      "Requirement already satisfied: pandas>=1.0.0 in ./venv3.11.1/lib/python3.11/site-packages (from geopandas) (2.0.0)\n",
      "Requirement already satisfied: shapely>=1.7 in ./venv3.11.1/lib/python3.11/site-packages (from geopandas) (2.0.1)\n",
      "Requirement already satisfied: fiona>=1.8 in ./venv3.11.1/lib/python3.11/site-packages (from geopandas) (1.9.2)\n",
      "Requirement already satisfied: pyproj>=2.6.1.post1 in ./venv3.11.1/lib/python3.11/site-packages (from geopandas) (3.5.0)\n",
      "Requirement already satisfied: packaging in ./venv3.11.1/lib/python3.11/site-packages (from geopandas) (23.0)\n",
      "Requirement already satisfied: attrs>=19.2.0 in ./venv3.11.1/lib/python3.11/site-packages (from fiona>=1.8->geopandas) (22.2.0)\n",
      "Requirement already satisfied: certifi in ./venv3.11.1/lib/python3.11/site-packages (from fiona>=1.8->geopandas) (2022.12.7)\n",
      "Requirement already satisfied: click~=8.0 in ./venv3.11.1/lib/python3.11/site-packages (from fiona>=1.8->geopandas) (8.1.3)\n",
      "Requirement already satisfied: click-plugins>=1.0 in ./venv3.11.1/lib/python3.11/site-packages (from fiona>=1.8->geopandas) (1.1.1)\n",
      "Requirement already satisfied: cligj>=0.5 in ./venv3.11.1/lib/python3.11/site-packages (from fiona>=1.8->geopandas) (0.7.2)\n",
      "Requirement already satisfied: munch>=2.3.2 in ./venv3.11.1/lib/python3.11/site-packages (from fiona>=1.8->geopandas) (2.5.0)\n",
      "Requirement already satisfied: python-dateutil>=2.8.2 in ./venv3.11.1/lib/python3.11/site-packages (from pandas>=1.0.0->geopandas) (2.8.2)\n",
      "Requirement already satisfied: pytz>=2020.1 in ./venv3.11.1/lib/python3.11/site-packages (from pandas>=1.0.0->geopandas) (2023.3)\n",
      "Requirement already satisfied: tzdata>=2022.1 in ./venv3.11.1/lib/python3.11/site-packages (from pandas>=1.0.0->geopandas) (2023.3)\n",
      "Requirement already satisfied: numpy>=1.21.0 in ./venv3.11.1/lib/python3.11/site-packages (from pandas>=1.0.0->geopandas) (1.24.2)\n",
      "Requirement already satisfied: six in ./venv3.11.1/lib/python3.11/site-packages (from munch>=2.3.2->fiona>=1.8->geopandas) (1.16.0)\n",
      "\n",
      "\u001b[1m[\u001b[0m\u001b[34;49mnotice\u001b[0m\u001b[1;39;49m]\u001b[0m\u001b[39;49m A new release of pip available: \u001b[0m\u001b[31;49m22.3.1\u001b[0m\u001b[39;49m -> \u001b[0m\u001b[32;49m23.0.1\u001b[0m\n",
      "\u001b[1m[\u001b[0m\u001b[34;49mnotice\u001b[0m\u001b[1;39;49m]\u001b[0m\u001b[39;49m To update, run: \u001b[0m\u001b[32;49mpip install --upgrade pip\u001b[0m\n",
      "Requirement already satisfied: folium in ./venv3.11.1/lib/python3.11/site-packages (0.14.0)\n",
      "Requirement already satisfied: branca>=0.6.0 in ./venv3.11.1/lib/python3.11/site-packages (from folium) (0.6.0)\n",
      "Requirement already satisfied: jinja2>=2.9 in ./venv3.11.1/lib/python3.11/site-packages (from folium) (3.1.2)\n",
      "Requirement already satisfied: numpy in ./venv3.11.1/lib/python3.11/site-packages (from folium) (1.24.2)\n",
      "Requirement already satisfied: requests in ./venv3.11.1/lib/python3.11/site-packages (from folium) (2.28.2)\n",
      "Requirement already satisfied: MarkupSafe>=2.0 in ./venv3.11.1/lib/python3.11/site-packages (from jinja2>=2.9->folium) (2.1.2)\n",
      "Requirement already satisfied: charset-normalizer<4,>=2 in ./venv3.11.1/lib/python3.11/site-packages (from requests->folium) (3.1.0)\n",
      "Requirement already satisfied: idna<4,>=2.5 in ./venv3.11.1/lib/python3.11/site-packages (from requests->folium) (3.4)\n",
      "Requirement already satisfied: urllib3<1.27,>=1.21.1 in ./venv3.11.1/lib/python3.11/site-packages (from requests->folium) (1.26.15)\n",
      "Requirement already satisfied: certifi>=2017.4.17 in ./venv3.11.1/lib/python3.11/site-packages (from requests->folium) (2022.12.7)\n",
      "\n",
      "\u001b[1m[\u001b[0m\u001b[34;49mnotice\u001b[0m\u001b[1;39;49m]\u001b[0m\u001b[39;49m A new release of pip available: \u001b[0m\u001b[31;49m22.3.1\u001b[0m\u001b[39;49m -> \u001b[0m\u001b[32;49m23.0.1\u001b[0m\n",
      "\u001b[1m[\u001b[0m\u001b[34;49mnotice\u001b[0m\u001b[1;39;49m]\u001b[0m\u001b[39;49m To update, run: \u001b[0m\u001b[32;49mpip install --upgrade pip\u001b[0m\n",
      "Requirement already satisfied: matplotlib in ./venv3.11.1/lib/python3.11/site-packages (3.7.1)\n",
      "Requirement already satisfied: contourpy>=1.0.1 in ./venv3.11.1/lib/python3.11/site-packages (from matplotlib) (1.0.7)\n",
      "Requirement already satisfied: cycler>=0.10 in ./venv3.11.1/lib/python3.11/site-packages (from matplotlib) (0.11.0)\n",
      "Requirement already satisfied: fonttools>=4.22.0 in ./venv3.11.1/lib/python3.11/site-packages (from matplotlib) (4.39.3)\n",
      "Requirement already satisfied: kiwisolver>=1.0.1 in ./venv3.11.1/lib/python3.11/site-packages (from matplotlib) (1.4.4)\n",
      "Requirement already satisfied: numpy>=1.20 in ./venv3.11.1/lib/python3.11/site-packages (from matplotlib) (1.24.2)\n",
      "Requirement already satisfied: packaging>=20.0 in ./venv3.11.1/lib/python3.11/site-packages (from matplotlib) (23.0)\n",
      "Requirement already satisfied: pillow>=6.2.0 in ./venv3.11.1/lib/python3.11/site-packages (from matplotlib) (9.5.0)\n",
      "Requirement already satisfied: pyparsing>=2.3.1 in ./venv3.11.1/lib/python3.11/site-packages (from matplotlib) (3.0.9)\n",
      "Requirement already satisfied: python-dateutil>=2.7 in ./venv3.11.1/lib/python3.11/site-packages (from matplotlib) (2.8.2)\n",
      "Requirement already satisfied: six>=1.5 in ./venv3.11.1/lib/python3.11/site-packages (from python-dateutil>=2.7->matplotlib) (1.16.0)\n",
      "\n",
      "\u001b[1m[\u001b[0m\u001b[34;49mnotice\u001b[0m\u001b[1;39;49m]\u001b[0m\u001b[39;49m A new release of pip available: \u001b[0m\u001b[31;49m22.3.1\u001b[0m\u001b[39;49m -> \u001b[0m\u001b[32;49m23.0.1\u001b[0m\n",
      "\u001b[1m[\u001b[0m\u001b[34;49mnotice\u001b[0m\u001b[1;39;49m]\u001b[0m\u001b[39;49m To update, run: \u001b[0m\u001b[32;49mpip install --upgrade pip\u001b[0m\n",
      "Requirement already satisfied: mapclassify in ./venv3.11.1/lib/python3.11/site-packages (2.5.0)\n",
      "Requirement already satisfied: scipy>=1.0 in ./venv3.11.1/lib/python3.11/site-packages (from mapclassify) (1.10.1)\n",
      "Requirement already satisfied: numpy>=1.3 in ./venv3.11.1/lib/python3.11/site-packages (from mapclassify) (1.24.2)\n",
      "Requirement already satisfied: scikit-learn in ./venv3.11.1/lib/python3.11/site-packages (from mapclassify) (1.2.2)\n",
      "Requirement already satisfied: pandas>=1.0 in ./venv3.11.1/lib/python3.11/site-packages (from mapclassify) (2.0.0)\n",
      "Requirement already satisfied: networkx in ./venv3.11.1/lib/python3.11/site-packages (from mapclassify) (3.1)\n",
      "Requirement already satisfied: python-dateutil>=2.8.2 in ./venv3.11.1/lib/python3.11/site-packages (from pandas>=1.0->mapclassify) (2.8.2)\n",
      "Requirement already satisfied: pytz>=2020.1 in ./venv3.11.1/lib/python3.11/site-packages (from pandas>=1.0->mapclassify) (2023.3)\n",
      "Requirement already satisfied: tzdata>=2022.1 in ./venv3.11.1/lib/python3.11/site-packages (from pandas>=1.0->mapclassify) (2023.3)\n",
      "Requirement already satisfied: joblib>=1.1.1 in ./venv3.11.1/lib/python3.11/site-packages (from scikit-learn->mapclassify) (1.2.0)\n",
      "Requirement already satisfied: threadpoolctl>=2.0.0 in ./venv3.11.1/lib/python3.11/site-packages (from scikit-learn->mapclassify) (3.1.0)\n",
      "Requirement already satisfied: six>=1.5 in ./venv3.11.1/lib/python3.11/site-packages (from python-dateutil>=2.8.2->pandas>=1.0->mapclassify) (1.16.0)\n",
      "\n",
      "\u001b[1m[\u001b[0m\u001b[34;49mnotice\u001b[0m\u001b[1;39;49m]\u001b[0m\u001b[39;49m A new release of pip available: \u001b[0m\u001b[31;49m22.3.1\u001b[0m\u001b[39;49m -> \u001b[0m\u001b[32;49m23.0.1\u001b[0m\n",
      "\u001b[1m[\u001b[0m\u001b[34;49mnotice\u001b[0m\u001b[1;39;49m]\u001b[0m\u001b[39;49m To update, run: \u001b[0m\u001b[32;49mpip install --upgrade pip\u001b[0m\n",
      "Requirement already satisfied: session-info in ./venv3.11.1/lib/python3.11/site-packages (1.0.0)\n",
      "Requirement already satisfied: stdlib_list in ./venv3.11.1/lib/python3.11/site-packages (from session-info) (0.8.0)\n",
      "\n",
      "\u001b[1m[\u001b[0m\u001b[34;49mnotice\u001b[0m\u001b[1;39;49m]\u001b[0m\u001b[39;49m A new release of pip available: \u001b[0m\u001b[31;49m22.3.1\u001b[0m\u001b[39;49m -> \u001b[0m\u001b[32;49m23.0.1\u001b[0m\n",
      "\u001b[1m[\u001b[0m\u001b[34;49mnotice\u001b[0m\u001b[1;39;49m]\u001b[0m\u001b[39;49m To update, run: \u001b[0m\u001b[32;49mpip install --upgrade pip\u001b[0m\n"
     ]
    }
   ],
   "source": [
    "!pip install geopandas\n",
    "!pip install folium\n",
    "!pip install matplotlib\n",
    "!pip install mapclassify\n",
    "!pip install session-info"
   ]
  },
  {
   "cell_type": "markdown",
   "id": "530315a6-f476-4440-a8f6-d7e5652036aa",
   "metadata": {},
   "source": [
    "Step 2: Importing Packages"
   ]
  },
  {
   "cell_type": "code",
   "execution_count": 3,
   "id": "beeb055e-a0b9-4217-b393-2874cf5ef4ca",
   "metadata": {
    "tags": []
   },
   "outputs": [],
   "source": [
    "import pandas as pd\n",
    "import geopandas as gpd\n",
    "import folium\n",
    "import matplotlib\n",
    "import matplotlib.pyplot as plt\n",
    "import mapclassify\n",
    "import session_info"
   ]
  },
  {
   "cell_type": "markdown",
   "id": "184f5200-1815-41af-bd8a-720d629ba2f7",
   "metadata": {},
   "source": [
    "Step 3: Importing Provincial Shapefiles "
   ]
  },
  {
   "cell_type": "code",
   "execution_count": 13,
   "id": "2f7457e1-1012-4104-96bf-46dd722dffc9",
   "metadata": {
    "tags": []
   },
   "outputs": [],
   "source": [
    "Alberta = gpd.read_file('data/Alberta/bdrk_py_ll.shp')\n",
    "British_Columbia = gpd.read_file('data/BC/BC_bedrock_ll83.shp')\n",
    "Manitoba = gpd.read_file('data/Manitoba/Bedrock_Geology.shp')\n",
    "New_Brunswick = gpd.read_file('data/NB/NB_Bedrock_Geology.shp')\n",
    "#Newfoundland_and_Labrador = gpd.read_file()\n",
    "Northwest_Territories = gpd.read_file('data/NWT/NWT_Geology_(GSCMapD1860A).shp')\n",
    "Nova_Sctoia = gpd.read_file('data/Nova_Scotia/test_file.shp')\n",
    "#Nunavut = gpd.read_file()\n",
    "Ontario = gpd.read_file('data/Ontario/Geopoly.shp')\n",
    "Prince_Edward_Island = gpd.read_file('data/PEI/SurficialGeology.shp')\n",
    "#Quebec = gpd.read_file()\n",
    "Saskatchewan = gpd.read_file('data/Sask/Bedrock_Geology.shp')\n",
    "Yukon = gpd.read_file('data/Yukon/Bedrock_Geology_Jan_2022.shp')"
   ]
  },
  {
   "cell_type": "markdown",
   "id": "d824a0ce-f345-4a22-95a0-bfbc27d816f2",
   "metadata": {
    "tags": []
   },
   "source": [
    "Step 5: Convert all data to the same Cordinate System"
   ]
  },
  {
   "cell_type": "code",
   "execution_count": 92,
   "id": "c0fc3d4b-ec42-41f4-b4de-6e30f7a6918d",
   "metadata": {
    "tags": []
   },
   "outputs": [],
   "source": [
    "province_list= [Yukon, Alberta]\n",
    "reproject = 'EPSG:2950'\n",
    "for province in province_list:\n",
    "    province = province.to_crs(reproject)"
   ]
  },
  {
   "cell_type": "markdown",
   "id": "494ea675-8367-43f2-ab7e-67dd5e688a29",
   "metadata": {},
   "source": [
    "Step 6: Project Canadian Geological Data Function"
   ]
  },
  {
   "cell_type": "code",
   "execution_count": 10,
   "id": "06c7d1b8-afa9-41f3-8cd5-e6d48e4c7b07",
   "metadata": {
    "scrolled": true,
    "tags": []
   },
   "outputs": [],
   "source": [
    "def geological_finder_map(filename, column_display):\n",
    "    prov = filename\n",
    "    prov.explore(column=column_display)\n",
    "    return prov.explore(column=column_display)"
   ]
  },
  {
   "cell_type": "markdown",
   "id": "51d23a5b-40b8-47c3-82ef-2fe751f89c31",
   "metadata": {},
   "source": [
    "Step 7: User Function Input Map Query"
   ]
  },
  {
   "cell_type": "code",
   "execution_count": 18,
   "id": "a37bc9e2-6f1d-4632-8582-e26a68df2092",
   "metadata": {},
   "outputs": [],
   "source": [
    "geological_finder_map(Alberta, 'ROCK_CLASS')"
   ]
  },
  {
   "cell_type": "markdown",
   "id": "67b74cca-a078-4a16-9b77-dadeceb4de49",
   "metadata": {
    "tags": []
   },
   "source": [
    "Step 8: Proejct Rock Type Function"
   ]
  },
  {
   "cell_type": "code",
   "execution_count": 11,
   "id": "4f4e09d2-5aed-4937-b0a8-012c286408bc",
   "metadata": {
    "tags": []
   },
   "outputs": [],
   "source": [
    "def rock_finder(prov, rock_col, rock_type):\n",
    "    query_map = prov[prov[rock_col]==(rock_type)]\n",
    "    return query_map.explore()"
   ]
  },
  {
   "cell_type": "markdown",
   "id": "a5550ad5-eea9-49a2-97ad-5d811e716368",
   "metadata": {},
   "source": [
    "Step 9: User Input Rock Finder"
   ]
  },
  {
   "cell_type": "code",
   "execution_count": 17,
   "id": "2b0b1a4c-a8e7-416c-bed2-1b5816edd0b7",
   "metadata": {
    "tags": []
   },
   "outputs": [],
   "source": [
    "rock_finder(Yukon, 'ROCK_CLASS', 'metamorphic')"
   ]
  },
  {
   "cell_type": "markdown",
   "id": "b9f0d53c-d307-4b30-8ddb-38385bf31095",
   "metadata": {},
   "source": [
    "Step 10: Dataframe Function"
   ]
  },
  {
   "cell_type": "code",
   "execution_count": 65,
   "id": "1e5c5029-15c7-492e-9da0-44209c49ad53",
   "metadata": {
    "tags": []
   },
   "outputs": [],
   "source": [
    "def Rock_finder_table(prov, classes, rock_type): \n",
    "    query_df = prov[prov[classes] == rock_type]\n",
    "    return query_df"
   ]
  },
  {
   "cell_type": "markdown",
   "id": "e9ba95e0-2580-4fee-ac8e-d60e1800cd67",
   "metadata": {},
   "source": [
    "Step 11: User Input for Dataframe Query"
   ]
  },
  {
   "cell_type": "code",
   "execution_count": 68,
   "id": "78f1fe95-4955-46e0-98b1-f11fe46a10a2",
   "metadata": {
    "tags": []
   },
   "outputs": [],
   "source": [
    "Rock_finder_table(Yukon, 'ROCK_CLASS','sedimentary')"
   ]
  },
  {
   "cell_type": "markdown",
   "id": "14c6138d-650d-471d-97f1-1b58a8585e2b",
   "metadata": {},
   "source": [
    "Step 12: Creating Requirements File"
   ]
  },
  {
   "cell_type": "code",
   "execution_count": null,
   "id": "caecc2be-0de4-4fd9-9b2e-eda93fd869fb",
   "metadata": {},
   "outputs": [],
   "source": [
    "session_info.show()"
   ]
  }
 ],
 "metadata": {
  "kernelspec": {
   "display_name": "Python 3 (ipykernel)",
   "language": "python",
   "name": "python3"
  },
  "language_info": {
   "codemirror_mode": {
    "name": "ipython",
    "version": 3
   },
   "file_extension": ".py",
   "mimetype": "text/x-python",
   "name": "python",
   "nbconvert_exporter": "python",
   "pygments_lexer": "ipython3",
   "version": "3.11.1"
  }
 },
 "nbformat": 4,
 "nbformat_minor": 5
}
