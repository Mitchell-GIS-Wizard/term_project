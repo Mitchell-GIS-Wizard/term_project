{
 "cells": [
  {
   "cell_type": "markdown",
   "id": "27b20e6a-6d2c-4feb-942b-5b9c95b8979a",
   "metadata": {
    "tags": []
   },
   "source": [
    "Step 1: Installing Required Programs"
   ]
  },
  {
   "cell_type": "code",
   "execution_count": 3,
   "id": "0312e009-2667-4190-bb54-446732d0f044",
   "metadata": {
    "collapsed": true,
    "jupyter": {
     "outputs_hidden": true
    },
    "tags": []
   },
   "outputs": [
    {
     "name": "stdout",
     "output_type": "stream",
     "text": [
      "Requirement already satisfied: geopandas in ./venv3.11.1/lib/python3.11/site-packages (0.12.2)\n",
      "Requirement already satisfied: pandas>=1.0.0 in ./venv3.11.1/lib/python3.11/site-packages (from geopandas) (1.5.3)\n",
      "Requirement already satisfied: shapely>=1.7 in ./venv3.11.1/lib/python3.11/site-packages (from geopandas) (2.0.1)\n",
      "Requirement already satisfied: fiona>=1.8 in ./venv3.11.1/lib/python3.11/site-packages (from geopandas) (1.9.2)\n",
      "Requirement already satisfied: pyproj>=2.6.1.post1 in ./venv3.11.1/lib/python3.11/site-packages (from geopandas) (3.4.1)\n",
      "Requirement already satisfied: packaging in ./venv3.11.1/lib/python3.11/site-packages (from geopandas) (23.0)\n",
      "Requirement already satisfied: attrs>=19.2.0 in ./venv3.11.1/lib/python3.11/site-packages (from fiona>=1.8->geopandas) (22.2.0)\n",
      "Requirement already satisfied: certifi in ./venv3.11.1/lib/python3.11/site-packages (from fiona>=1.8->geopandas) (2022.12.7)\n",
      "Requirement already satisfied: click~=8.0 in ./venv3.11.1/lib/python3.11/site-packages (from fiona>=1.8->geopandas) (8.1.3)\n",
      "Requirement already satisfied: click-plugins>=1.0 in ./venv3.11.1/lib/python3.11/site-packages (from fiona>=1.8->geopandas) (1.1.1)\n",
      "Requirement already satisfied: cligj>=0.5 in ./venv3.11.1/lib/python3.11/site-packages (from fiona>=1.8->geopandas) (0.7.2)\n",
      "Requirement already satisfied: munch>=2.3.2 in ./venv3.11.1/lib/python3.11/site-packages (from fiona>=1.8->geopandas) (2.5.0)\n",
      "Requirement already satisfied: python-dateutil>=2.8.1 in ./venv3.11.1/lib/python3.11/site-packages (from pandas>=1.0.0->geopandas) (2.8.2)\n",
      "Requirement already satisfied: pytz>=2020.1 in ./venv3.11.1/lib/python3.11/site-packages (from pandas>=1.0.0->geopandas) (2022.7.1)\n",
      "Requirement already satisfied: numpy>=1.21.0 in ./venv3.11.1/lib/python3.11/site-packages (from pandas>=1.0.0->geopandas) (1.24.2)\n",
      "Requirement already satisfied: six in ./venv3.11.1/lib/python3.11/site-packages (from munch>=2.3.2->fiona>=1.8->geopandas) (1.16.0)\n",
      "\n",
      "\u001b[1m[\u001b[0m\u001b[34;49mnotice\u001b[0m\u001b[1;39;49m]\u001b[0m\u001b[39;49m A new release of pip available: \u001b[0m\u001b[31;49m22.3.1\u001b[0m\u001b[39;49m -> \u001b[0m\u001b[32;49m23.0.1\u001b[0m\n",
      "\u001b[1m[\u001b[0m\u001b[34;49mnotice\u001b[0m\u001b[1;39;49m]\u001b[0m\u001b[39;49m To update, run: \u001b[0m\u001b[32;49mpip install --upgrade pip\u001b[0m\n",
      "Requirement already satisfied: folium in ./venv3.11.1/lib/python3.11/site-packages (0.14.0)\n",
      "Requirement already satisfied: branca>=0.6.0 in ./venv3.11.1/lib/python3.11/site-packages (from folium) (0.6.0)\n",
      "Requirement already satisfied: jinja2>=2.9 in ./venv3.11.1/lib/python3.11/site-packages (from folium) (3.1.2)\n",
      "Requirement already satisfied: numpy in ./venv3.11.1/lib/python3.11/site-packages (from folium) (1.24.2)\n",
      "Requirement already satisfied: requests in ./venv3.11.1/lib/python3.11/site-packages (from folium) (2.28.2)\n",
      "Requirement already satisfied: MarkupSafe>=2.0 in ./venv3.11.1/lib/python3.11/site-packages (from jinja2>=2.9->folium) (2.1.2)\n",
      "Requirement already satisfied: charset-normalizer<4,>=2 in ./venv3.11.1/lib/python3.11/site-packages (from requests->folium) (3.1.0)\n",
      "Requirement already satisfied: idna<4,>=2.5 in ./venv3.11.1/lib/python3.11/site-packages (from requests->folium) (3.4)\n",
      "Requirement already satisfied: urllib3<1.27,>=1.21.1 in ./venv3.11.1/lib/python3.11/site-packages (from requests->folium) (1.26.15)\n",
      "Requirement already satisfied: certifi>=2017.4.17 in ./venv3.11.1/lib/python3.11/site-packages (from requests->folium) (2022.12.7)\n",
      "\n",
      "\u001b[1m[\u001b[0m\u001b[34;49mnotice\u001b[0m\u001b[1;39;49m]\u001b[0m\u001b[39;49m A new release of pip available: \u001b[0m\u001b[31;49m22.3.1\u001b[0m\u001b[39;49m -> \u001b[0m\u001b[32;49m23.0.1\u001b[0m\n",
      "\u001b[1m[\u001b[0m\u001b[34;49mnotice\u001b[0m\u001b[1;39;49m]\u001b[0m\u001b[39;49m To update, run: \u001b[0m\u001b[32;49mpip install --upgrade pip\u001b[0m\n",
      "Requirement already satisfied: matplotlib in ./venv3.11.1/lib/python3.11/site-packages (3.7.1)\n",
      "Requirement already satisfied: contourpy>=1.0.1 in ./venv3.11.1/lib/python3.11/site-packages (from matplotlib) (1.0.7)\n",
      "Requirement already satisfied: cycler>=0.10 in ./venv3.11.1/lib/python3.11/site-packages (from matplotlib) (0.11.0)\n",
      "Requirement already satisfied: fonttools>=4.22.0 in ./venv3.11.1/lib/python3.11/site-packages (from matplotlib) (4.39.2)\n",
      "Requirement already satisfied: kiwisolver>=1.0.1 in ./venv3.11.1/lib/python3.11/site-packages (from matplotlib) (1.4.4)\n",
      "Requirement already satisfied: numpy>=1.20 in ./venv3.11.1/lib/python3.11/site-packages (from matplotlib) (1.24.2)\n",
      "Requirement already satisfied: packaging>=20.0 in ./venv3.11.1/lib/python3.11/site-packages (from matplotlib) (23.0)\n",
      "Requirement already satisfied: pillow>=6.2.0 in ./venv3.11.1/lib/python3.11/site-packages (from matplotlib) (9.4.0)\n",
      "Requirement already satisfied: pyparsing>=2.3.1 in ./venv3.11.1/lib/python3.11/site-packages (from matplotlib) (3.0.9)\n",
      "Requirement already satisfied: python-dateutil>=2.7 in ./venv3.11.1/lib/python3.11/site-packages (from matplotlib) (2.8.2)\n",
      "Requirement already satisfied: six>=1.5 in ./venv3.11.1/lib/python3.11/site-packages (from python-dateutil>=2.7->matplotlib) (1.16.0)\n",
      "\n",
      "\u001b[1m[\u001b[0m\u001b[34;49mnotice\u001b[0m\u001b[1;39;49m]\u001b[0m\u001b[39;49m A new release of pip available: \u001b[0m\u001b[31;49m22.3.1\u001b[0m\u001b[39;49m -> \u001b[0m\u001b[32;49m23.0.1\u001b[0m\n",
      "\u001b[1m[\u001b[0m\u001b[34;49mnotice\u001b[0m\u001b[1;39;49m]\u001b[0m\u001b[39;49m To update, run: \u001b[0m\u001b[32;49mpip install --upgrade pip\u001b[0m\n",
      "Requirement already satisfied: mapclassify in ./venv3.11.1/lib/python3.11/site-packages (2.5.0)\n",
      "Requirement already satisfied: scipy>=1.0 in ./venv3.11.1/lib/python3.11/site-packages (from mapclassify) (1.10.1)\n",
      "Requirement already satisfied: numpy>=1.3 in ./venv3.11.1/lib/python3.11/site-packages (from mapclassify) (1.24.2)\n",
      "Requirement already satisfied: scikit-learn in ./venv3.11.1/lib/python3.11/site-packages (from mapclassify) (1.2.2)\n",
      "Requirement already satisfied: pandas>=1.0 in ./venv3.11.1/lib/python3.11/site-packages (from mapclassify) (1.5.3)\n",
      "Requirement already satisfied: networkx in ./venv3.11.1/lib/python3.11/site-packages (from mapclassify) (3.0)\n",
      "Requirement already satisfied: python-dateutil>=2.8.1 in ./venv3.11.1/lib/python3.11/site-packages (from pandas>=1.0->mapclassify) (2.8.2)\n",
      "Requirement already satisfied: pytz>=2020.1 in ./venv3.11.1/lib/python3.11/site-packages (from pandas>=1.0->mapclassify) (2022.7.1)\n",
      "Requirement already satisfied: joblib>=1.1.1 in ./venv3.11.1/lib/python3.11/site-packages (from scikit-learn->mapclassify) (1.2.0)\n",
      "Requirement already satisfied: threadpoolctl>=2.0.0 in ./venv3.11.1/lib/python3.11/site-packages (from scikit-learn->mapclassify) (3.1.0)\n",
      "Requirement already satisfied: six>=1.5 in ./venv3.11.1/lib/python3.11/site-packages (from python-dateutil>=2.8.1->pandas>=1.0->mapclassify) (1.16.0)\n",
      "\n",
      "\u001b[1m[\u001b[0m\u001b[34;49mnotice\u001b[0m\u001b[1;39;49m]\u001b[0m\u001b[39;49m A new release of pip available: \u001b[0m\u001b[31;49m22.3.1\u001b[0m\u001b[39;49m -> \u001b[0m\u001b[32;49m23.0.1\u001b[0m\n",
      "\u001b[1m[\u001b[0m\u001b[34;49mnotice\u001b[0m\u001b[1;39;49m]\u001b[0m\u001b[39;49m To update, run: \u001b[0m\u001b[32;49mpip install --upgrade pip\u001b[0m\n",
      "Requirement already satisfied: session-info in ./venv3.11.1/lib/python3.11/site-packages (1.0.0)\n",
      "Requirement already satisfied: stdlib_list in ./venv3.11.1/lib/python3.11/site-packages (from session-info) (0.8.0)\n",
      "\n",
      "\u001b[1m[\u001b[0m\u001b[34;49mnotice\u001b[0m\u001b[1;39;49m]\u001b[0m\u001b[39;49m A new release of pip available: \u001b[0m\u001b[31;49m22.3.1\u001b[0m\u001b[39;49m -> \u001b[0m\u001b[32;49m23.0.1\u001b[0m\n",
      "\u001b[1m[\u001b[0m\u001b[34;49mnotice\u001b[0m\u001b[1;39;49m]\u001b[0m\u001b[39;49m To update, run: \u001b[0m\u001b[32;49mpip install --upgrade pip\u001b[0m\n"
     ]
    }
   ],
   "source": [
    "#!pip install geopandas\n",
    "#!pip install folium\n",
    "#!pip install matplotlib\n",
    "#!pip install mapclassify\n",
    "#!pip install session-info"
   ]
  },
  {
   "cell_type": "markdown",
   "id": "530315a6-f476-4440-a8f6-d7e5652036aa",
   "metadata": {},
   "source": [
    "Step 2: Importing Packages"
   ]
  },
  {
   "cell_type": "code",
   "execution_count": 5,
   "id": "beeb055e-a0b9-4217-b393-2874cf5ef4ca",
   "metadata": {
    "tags": []
   },
   "outputs": [],
   "source": [
    "import pandas as pd\n",
    "import geopandas as gpd\n",
    "import folium\n",
    "import matplotlib\n",
    "import matplotlib.pyplot as plt\n",
    "import mapclassify\n",
    "import session_info"
   ]
  },
  {
   "cell_type": "markdown",
   "id": "184f5200-1815-41af-bd8a-720d629ba2f7",
   "metadata": {},
   "source": [
    "Step 3: Importing Provincial Shapefiles "
   ]
  },
  {
   "cell_type": "code",
   "execution_count": 24,
   "id": "2f7457e1-1012-4104-96bf-46dd722dffc9",
   "metadata": {
    "tags": []
   },
   "outputs": [],
   "source": [
    "Alberta = gpd.read_file('data/Alberta/bdrk_py_ll.shp')\n",
    "British_Columbia = gpd.read_file('data/BC/BC_bedrock_ll83.shp')\n",
    "Manitoba = gpd.read_file()\n",
    "New_Brunswick = gpd.read_file()\n",
    "#Newfoundland_and_Labrador = gpd.read_file()\n",
    "#Northwest_Territories = gpd.read_file()\n",
    "Nova_Sctoia = gpd.read_file()\n",
    "#Nunavut = gpd.read_file()\n",
    "Ontario = gpd.read_file()\n",
    "#Prince_Edward_Island = gpd.read_file()\n",
    "#Quebec = gpd.read_file()\n",
    "Saskatchewan = gpd.read_file()\n",
    "Yukon = gpd.read_file('data/Yukon/Bedrock_Geology_Jan_2022.shp')"
   ]
  },
  {
   "cell_type": "markdown",
   "id": "5ce6440d-5227-491f-bf80-c114af934615",
   "metadata": {},
   "source": [
    "Step 4: Making Classified Areas"
   ]
  },
  {
   "cell_type": "code",
   "execution_count": null,
   "id": "a4d15597-d422-4f3f-ac97-8ef3fdf105e6",
   "metadata": {
    "tags": []
   },
   "outputs": [],
   "source": [
    "Alberta = Alberta.to_crs('EPSG:2950')\n",
    "British_Columbia = British_Columbia.to_crs('EPSG:2950')\n",
    "West_Coast = gpd.pd.concat([Alberta, British_Columbia])\n",
    "West_Coast.to_file('west_coast.shp')\n",
    "East_Cost\n",
    "              ########Still Broken########"
   ]
  },
  {
   "cell_type": "markdown",
   "id": "d824a0ce-f345-4a22-95a0-bfbc27d816f2",
   "metadata": {
    "tags": []
   },
   "source": [
    "Step 5: Convert all data to the same Cordinate System"
   ]
  },
  {
   "cell_type": "code",
   "execution_count": 9,
   "id": "c0fc3d4b-ec42-41f4-b4de-6e30f7a6918d",
   "metadata": {
    "collapsed": true,
    "jupyter": {
     "outputs_hidden": true
    },
    "tags": []
   },
   "outputs": [
    {
     "ename": "AttributeError",
     "evalue": "'str' object has no attribute 'to_crs'",
     "output_type": "error",
     "traceback": [
      "\u001b[0;31m---------------------------------------------------------------------------\u001b[0m",
      "\u001b[0;31mAttributeError\u001b[0m                            Traceback (most recent call last)",
      "Cell \u001b[0;32mIn[9], line 4\u001b[0m\n\u001b[1;32m      2\u001b[0m province_list\u001b[38;5;241m=\u001b[39m [\u001b[38;5;124m'\u001b[39m\u001b[38;5;124mAlberta\u001b[39m\u001b[38;5;124m'\u001b[39m, \u001b[38;5;124m'\u001b[39m\u001b[38;5;124mBritish_Columbia\u001b[39m\u001b[38;5;124m'\u001b[39m]\n\u001b[1;32m      3\u001b[0m \u001b[38;5;28;01mfor\u001b[39;00m province \u001b[38;5;129;01min\u001b[39;00m province_list:\n\u001b[0;32m----> 4\u001b[0m     province \u001b[38;5;241m=\u001b[39m \u001b[43mprovince\u001b[49m\u001b[38;5;241;43m.\u001b[39;49m\u001b[43mto_crs\u001b[49m(\u001b[38;5;124m'\u001b[39m\u001b[38;5;124mEPSG:2950\u001b[39m\u001b[38;5;124m'\u001b[39m)\n\u001b[1;32m      6\u001b[0m                 \u001b[38;5;66;03m########Still Broken########\u001b[39;00m\n",
      "\u001b[0;31mAttributeError\u001b[0m: 'str' object has no attribute 'to_crs'"
     ]
    }
   ],
   "source": [
    "#province_list = ['Alberta','British_Columbia','Manitoba','New_Brunswick','Newfoundland_and_Labrador','Northwest_Territories','Nova_Scotia','Nunavut','Ontario','Prince_Edward_Island','Quebec','Saskatchewan','Yukon']\n",
    "province_list= ['Alberta', 'British_Columbia']\n",
    "for province in province_list:\n",
    "    province = province.to_crs('EPSG:2950')\n",
    "    \n",
    "                ########Still Broken########"
   ]
  },
  {
   "cell_type": "markdown",
   "id": "07285a31-ae76-4a3d-97aa-2ff8254cd8ba",
   "metadata": {},
   "source": [
    "Step 6: Project Geological Data Function"
   ]
  },
  {
   "cell_type": "code",
   "execution_count": 53,
   "id": "06c7d1b8-afa9-41f3-8cd5-e6d48e4c7b07",
   "metadata": {
    "scrolled": true,
    "tags": []
   },
   "outputs": [],
   "source": [
    "def geological_finder_map(filename, column_display):\n",
    "    prov = filename\n",
    "    prov.explore(column=column_display)\n",
    "    return prov.explore(column=column_display)"
   ]
  },
  {
   "cell_type": "markdown",
   "id": "51d23a5b-40b8-47c3-82ef-2fe751f89c31",
   "metadata": {},
   "source": [
    "Step 7: User Function Input Map Query"
   ]
  },
  {
   "cell_type": "code",
   "execution_count": null,
   "id": "a37bc9e2-6f1d-4632-8582-e26a68df2092",
   "metadata": {},
   "outputs": [],
   "source": [
    "geological_finder_map(Yukon, 'ROCK_CLASS')"
   ]
  },
  {
   "cell_type": "markdown",
   "id": "67b74cca-a078-4a16-9b77-dadeceb4de49",
   "metadata": {
    "tags": []
   },
   "source": [
    "Step 8: Proejct Rock Type Function"
   ]
  },
  {
   "cell_type": "code",
   "execution_count": 1,
   "id": "49a0b8ce-25e3-4127-a6a5-73ea7559421e",
   "metadata": {
    "tags": []
   },
   "outputs": [],
   "source": [
    "def rock_finder(prov, rock_col, rock_type):\n",
    "    filename = prov\n",
    "    filename.explore(column=prov[prov[rock_col] == rock_type])\n",
    "    return filename.explore(column=prov[prov[rock_col] == rock_type])"
   ]
  },
  {
   "cell_type": "code",
   "execution_count": 2,
   "id": "2b0b1a4c-a8e7-416c-bed2-1b5816edd0b7",
   "metadata": {
    "tags": []
   },
   "outputs": [
    {
     "ename": "NameError",
     "evalue": "name 'Yukon' is not defined",
     "output_type": "error",
     "traceback": [
      "\u001b[0;31m---------------------------------------------------------------------------\u001b[0m",
      "\u001b[0;31mNameError\u001b[0m                                 Traceback (most recent call last)",
      "Cell \u001b[0;32mIn[2], line 1\u001b[0m\n\u001b[0;32m----> 1\u001b[0m rock_finder(\u001b[43mYukon\u001b[49m, \u001b[38;5;124m'\u001b[39m\u001b[38;5;124mROCK_CLASS\u001b[39m\u001b[38;5;124m'\u001b[39m, \u001b[38;5;124m'\u001b[39m\u001b[38;5;124mmetamorphic\u001b[39m\u001b[38;5;124m'\u001b[39m)\n",
      "\u001b[0;31mNameError\u001b[0m: name 'Yukon' is not defined"
     ]
    }
   ],
   "source": [
    "rock_finder(Yukon, 'ROCK_CLASS', 'metamorphic')\n",
    "##### error occurs when the code runs, because the explore cannot display only a portion of columns #####"
   ]
  },
  {
   "cell_type": "markdown",
   "id": "b9f0d53c-d307-4b30-8ddb-38385bf31095",
   "metadata": {},
   "source": [
    "Step 8: Dataframe Function"
   ]
  },
  {
   "cell_type": "code",
   "execution_count": 47,
   "id": "1e5c5029-15c7-492e-9da0-44209c49ad53",
   "metadata": {
    "tags": []
   },
   "outputs": [],
   "source": [
    "def Rock_finder_table(prov, classes, rock_type): \n",
    "    rocks = prov[prov[classes] == rock_type]\n",
    "    return rocks"
   ]
  },
  {
   "cell_type": "markdown",
   "id": "e9ba95e0-2580-4fee-ac8e-d60e1800cd67",
   "metadata": {},
   "source": [
    "Step 9: User Input for Dataframe Query"
   ]
  },
  {
   "cell_type": "code",
   "execution_count": 51,
   "id": "78f1fe95-4955-46e0-98b1-f11fe46a10a2",
   "metadata": {
    "tags": []
   },
   "outputs": [
    {
     "data": {
      "text/html": [
       "<div>\n",
       "<style scoped>\n",
       "    .dataframe tbody tr th:only-of-type {\n",
       "        vertical-align: middle;\n",
       "    }\n",
       "\n",
       "    .dataframe tbody tr th {\n",
       "        vertical-align: top;\n",
       "    }\n",
       "\n",
       "    .dataframe thead th {\n",
       "        text-align: right;\n",
       "    }\n",
       "</style>\n",
       "<table border=\"1\" class=\"dataframe\">\n",
       "  <thead>\n",
       "    <tr style=\"text-align: right;\">\n",
       "      <th></th>\n",
       "      <th>OBJECTID</th>\n",
       "      <th>Join_Count</th>\n",
       "      <th>TARGET_FID</th>\n",
       "      <th>UNIT_1M</th>\n",
       "      <th>UNIT_250K</th>\n",
       "      <th>UNIT_ORIG</th>\n",
       "      <th>SUPERGROUP</th>\n",
       "      <th>GP_SUITE</th>\n",
       "      <th>FORMATION</th>\n",
       "      <th>MEMBER</th>\n",
       "      <th>...</th>\n",
       "      <th>LABEL_250K</th>\n",
       "      <th>LABEL_1M</th>\n",
       "      <th>COMMENTS</th>\n",
       "      <th>RED</th>\n",
       "      <th>GREEN</th>\n",
       "      <th>BLUE</th>\n",
       "      <th>ASSEMBLAGE</th>\n",
       "      <th>Shape_Leng</th>\n",
       "      <th>Shape_Area</th>\n",
       "      <th>geometry</th>\n",
       "    </tr>\n",
       "  </thead>\n",
       "  <tbody>\n",
       "    <tr>\n",
       "      <th>0</th>\n",
       "      <td>1</td>\n",
       "      <td>1</td>\n",
       "      <td>1</td>\n",
       "      <td>DMF</td>\n",
       "      <td>DMF5</td>\n",
       "      <td>DCBc</td>\n",
       "      <td>NaN</td>\n",
       "      <td>Big Salmon</td>\n",
       "      <td>NaN</td>\n",
       "      <td>NaN</td>\n",
       "      <td>...</td>\n",
       "      <td>54Fc</td>\n",
       "      <td>54F</td>\n",
       "      <td>NaN</td>\n",
       "      <td>0</td>\n",
       "      <td>255</td>\n",
       "      <td>204</td>\n",
       "      <td>Finlayson</td>\n",
       "      <td>998.016093</td>\n",
       "      <td>4.274125e+04</td>\n",
       "      <td>POLYGON ((531183.845 611558.105, 531195.448 61...</td>\n",
       "    </tr>\n",
       "    <tr>\n",
       "      <th>1</th>\n",
       "      <td>2</td>\n",
       "      <td>1</td>\n",
       "      <td>2</td>\n",
       "      <td>DMF</td>\n",
       "      <td>DMF5</td>\n",
       "      <td>DCBc</td>\n",
       "      <td>NaN</td>\n",
       "      <td>Big Salmon</td>\n",
       "      <td>NaN</td>\n",
       "      <td>NaN</td>\n",
       "      <td>...</td>\n",
       "      <td>54Fc</td>\n",
       "      <td>54F</td>\n",
       "      <td>NaN</td>\n",
       "      <td>0</td>\n",
       "      <td>255</td>\n",
       "      <td>204</td>\n",
       "      <td>Finlayson</td>\n",
       "      <td>1906.989447</td>\n",
       "      <td>1.367140e+05</td>\n",
       "      <td>POLYGON ((532092.750 611820.380, 532086.501 61...</td>\n",
       "    </tr>\n",
       "    <tr>\n",
       "      <th>2</th>\n",
       "      <td>3</td>\n",
       "      <td>1</td>\n",
       "      <td>3</td>\n",
       "      <td>CK</td>\n",
       "      <td>CK4</td>\n",
       "      <td>DCBh</td>\n",
       "      <td>NaN</td>\n",
       "      <td>Big Salmon</td>\n",
       "      <td>Old Highway</td>\n",
       "      <td>NaN</td>\n",
       "      <td>...</td>\n",
       "      <td>7Ke</td>\n",
       "      <td>7K</td>\n",
       "      <td>reassigned to Klinkit by Colpron (2020)</td>\n",
       "      <td>152</td>\n",
       "      <td>152</td>\n",
       "      <td>0</td>\n",
       "      <td>Klinkit</td>\n",
       "      <td>2642.328514</td>\n",
       "      <td>1.144436e+05</td>\n",
       "      <td>POLYGON ((531296.306 611894.010, 531293.212 61...</td>\n",
       "    </tr>\n",
       "    <tr>\n",
       "      <th>4</th>\n",
       "      <td>5</td>\n",
       "      <td>1</td>\n",
       "      <td>5</td>\n",
       "      <td>PDS</td>\n",
       "      <td>PDS1</td>\n",
       "      <td>PPDs</td>\n",
       "      <td>NaN</td>\n",
       "      <td>Snowcap</td>\n",
       "      <td>NaN</td>\n",
       "      <td>NaN</td>\n",
       "      <td>...</td>\n",
       "      <td>{5Ss</td>\n",
       "      <td>{5S</td>\n",
       "      <td>NaN</td>\n",
       "      <td>158</td>\n",
       "      <td>170</td>\n",
       "      <td>215</td>\n",
       "      <td>Snowcap</td>\n",
       "      <td>5272.769697</td>\n",
       "      <td>1.475113e+06</td>\n",
       "      <td>POLYGON ((555885.666 612601.816, 555895.985 61...</td>\n",
       "    </tr>\n",
       "    <tr>\n",
       "      <th>13</th>\n",
       "      <td>14</td>\n",
       "      <td>1</td>\n",
       "      <td>14</td>\n",
       "      <td>TrJ</td>\n",
       "      <td>TrJ1</td>\n",
       "      <td>TrL</td>\n",
       "      <td>NaN</td>\n",
       "      <td>NaN</td>\n",
       "      <td>Teh</td>\n",
       "      <td>NaN</td>\n",
       "      <td>...</td>\n",
       "      <td>=Js</td>\n",
       "      <td>=J</td>\n",
       "      <td>NaN</td>\n",
       "      <td>255</td>\n",
       "      <td>212</td>\n",
       "      <td>128</td>\n",
       "      <td>Jones Lake</td>\n",
       "      <td>2369.769736</td>\n",
       "      <td>3.444644e+05</td>\n",
       "      <td>POLYGON ((546568.370 614211.940, 546608.500 61...</td>\n",
       "    </tr>\n",
       "    <tr>\n",
       "      <th>...</th>\n",
       "      <td>...</td>\n",
       "      <td>...</td>\n",
       "      <td>...</td>\n",
       "      <td>...</td>\n",
       "      <td>...</td>\n",
       "      <td>...</td>\n",
       "      <td>...</td>\n",
       "      <td>...</td>\n",
       "      <td>...</td>\n",
       "      <td>...</td>\n",
       "      <td>...</td>\n",
       "      <td>...</td>\n",
       "      <td>...</td>\n",
       "      <td>...</td>\n",
       "      <td>...</td>\n",
       "      <td>...</td>\n",
       "      <td>...</td>\n",
       "      <td>...</td>\n",
       "      <td>...</td>\n",
       "      <td>...</td>\n",
       "      <td>...</td>\n",
       "    </tr>\n",
       "    <tr>\n",
       "      <th>19308</th>\n",
       "      <td>19309</td>\n",
       "      <td>1</td>\n",
       "      <td>19309</td>\n",
       "      <td>DMF</td>\n",
       "      <td>DMF3</td>\n",
       "      <td>DMsqc</td>\n",
       "      <td>NaN</td>\n",
       "      <td>NaN</td>\n",
       "      <td>NaN</td>\n",
       "      <td>NaN</td>\n",
       "      <td>...</td>\n",
       "      <td>54Fbp</td>\n",
       "      <td>54F</td>\n",
       "      <td>NaN</td>\n",
       "      <td>153</td>\n",
       "      <td>255</td>\n",
       "      <td>204</td>\n",
       "      <td>Finlayson</td>\n",
       "      <td>144795.241736</td>\n",
       "      <td>1.921797e+08</td>\n",
       "      <td>POLYGON ((112477.543 1147140.874, 112539.113 1...</td>\n",
       "    </tr>\n",
       "    <tr>\n",
       "      <th>19644</th>\n",
       "      <td>19645</td>\n",
       "      <td>1</td>\n",
       "      <td>19645</td>\n",
       "      <td>PDC</td>\n",
       "      <td>PDC2</td>\n",
       "      <td>lPu</td>\n",
       "      <td>NaN</td>\n",
       "      <td>Dawson-Clinton Creek</td>\n",
       "      <td>NaN</td>\n",
       "      <td>NaN</td>\n",
       "      <td>...</td>\n",
       "      <td>?DCum</td>\n",
       "      <td>?DC</td>\n",
       "      <td>reinterpreted by Colpron (2020) based on datin...</td>\n",
       "      <td>158</td>\n",
       "      <td>181</td>\n",
       "      <td>138</td>\n",
       "      <td>Dawson-Clinton Creek</td>\n",
       "      <td>6880.477650</td>\n",
       "      <td>3.832461e+05</td>\n",
       "      <td>POLYGON ((100905.531 1153612.630, 101023.920 1...</td>\n",
       "    </tr>\n",
       "    <tr>\n",
       "      <th>19687</th>\n",
       "      <td>19688</td>\n",
       "      <td>1</td>\n",
       "      <td>19688</td>\n",
       "      <td>PDC</td>\n",
       "      <td>PDC2</td>\n",
       "      <td>lPu</td>\n",
       "      <td>NaN</td>\n",
       "      <td>Dawson-Clinton Creek</td>\n",
       "      <td>NaN</td>\n",
       "      <td>NaN</td>\n",
       "      <td>...</td>\n",
       "      <td>?DCum</td>\n",
       "      <td>?DC</td>\n",
       "      <td>reinterpreted by Colpron (2020) based on datin...</td>\n",
       "      <td>158</td>\n",
       "      <td>181</td>\n",
       "      <td>138</td>\n",
       "      <td>Dawson-Clinton Creek</td>\n",
       "      <td>8551.901535</td>\n",
       "      <td>1.221372e+06</td>\n",
       "      <td>POLYGON ((96801.380 1154509.880, 97127.880 115...</td>\n",
       "    </tr>\n",
       "    <tr>\n",
       "      <th>19714</th>\n",
       "      <td>19715</td>\n",
       "      <td>1</td>\n",
       "      <td>19715</td>\n",
       "      <td>PDC</td>\n",
       "      <td>PDC1</td>\n",
       "      <td>lPv</td>\n",
       "      <td>NaN</td>\n",
       "      <td>Dawson-Clinton Creek</td>\n",
       "      <td>NaN</td>\n",
       "      <td>NaN</td>\n",
       "      <td>...</td>\n",
       "      <td>?DCv</td>\n",
       "      <td>?DC</td>\n",
       "      <td>reinterpreted by Colpron (2020) based on datin...</td>\n",
       "      <td>158</td>\n",
       "      <td>181</td>\n",
       "      <td>138</td>\n",
       "      <td>Dawson-Clinton Creek</td>\n",
       "      <td>3965.633551</td>\n",
       "      <td>3.727922e+05</td>\n",
       "      <td>POLYGON ((96454.440 1154787.380, 96570.210 115...</td>\n",
       "    </tr>\n",
       "    <tr>\n",
       "      <th>19968</th>\n",
       "      <td>19969</td>\n",
       "      <td>1</td>\n",
       "      <td>19969</td>\n",
       "      <td>DMF</td>\n",
       "      <td>DMF4</td>\n",
       "      <td>DMsq</td>\n",
       "      <td>NaN</td>\n",
       "      <td>NaN</td>\n",
       "      <td>NaN</td>\n",
       "      <td>NaN</td>\n",
       "      <td>...</td>\n",
       "      <td>54Fs</td>\n",
       "      <td>54F</td>\n",
       "      <td>NaN</td>\n",
       "      <td>153</td>\n",
       "      <td>255</td>\n",
       "      <td>204</td>\n",
       "      <td>Finlayson</td>\n",
       "      <td>91718.874913</td>\n",
       "      <td>1.544796e+08</td>\n",
       "      <td>POLYGON ((97689.430 1158922.001, 97806.580 115...</td>\n",
       "    </tr>\n",
       "  </tbody>\n",
       "</table>\n",
       "<p>4377 rows × 40 columns</p>\n",
       "</div>"
      ],
      "text/plain": [
       "       OBJECTID  Join_Count  TARGET_FID UNIT_1M UNIT_250K UNIT_ORIG  \\\n",
       "0             1           1           1     DMF      DMF5      DCBc   \n",
       "1             2           1           2     DMF      DMF5      DCBc   \n",
       "2             3           1           3      CK       CK4      DCBh   \n",
       "4             5           1           5     PDS      PDS1      PPDs   \n",
       "13           14           1          14     TrJ      TrJ1       TrL   \n",
       "...         ...         ...         ...     ...       ...       ...   \n",
       "19308     19309           1       19309     DMF      DMF3     DMsqc   \n",
       "19644     19645           1       19645     PDC      PDC2       lPu   \n",
       "19687     19688           1       19688     PDC      PDC2       lPu   \n",
       "19714     19715           1       19715     PDC      PDC1       lPv   \n",
       "19968     19969           1       19969     DMF      DMF4      DMsq   \n",
       "\n",
       "      SUPERGROUP              GP_SUITE    FORMATION MEMBER  ... LABEL_250K  \\\n",
       "0            NaN            Big Salmon          NaN    NaN  ...       54Fc   \n",
       "1            NaN            Big Salmon          NaN    NaN  ...       54Fc   \n",
       "2            NaN            Big Salmon  Old Highway    NaN  ...        7Ke   \n",
       "4            NaN               Snowcap          NaN    NaN  ...       {5Ss   \n",
       "13           NaN                   NaN          Teh    NaN  ...        =Js   \n",
       "...          ...                   ...          ...    ...  ...        ...   \n",
       "19308        NaN                   NaN          NaN    NaN  ...      54Fbp   \n",
       "19644        NaN  Dawson-Clinton Creek          NaN    NaN  ...      ?DCum   \n",
       "19687        NaN  Dawson-Clinton Creek          NaN    NaN  ...      ?DCum   \n",
       "19714        NaN  Dawson-Clinton Creek          NaN    NaN  ...       ?DCv   \n",
       "19968        NaN                   NaN          NaN    NaN  ...       54Fs   \n",
       "\n",
       "      LABEL_1M                                           COMMENTS  RED GREEN  \\\n",
       "0          54F                                                NaN    0   255   \n",
       "1          54F                                                NaN    0   255   \n",
       "2           7K            reassigned to Klinkit by Colpron (2020)  152   152   \n",
       "4          {5S                                                NaN  158   170   \n",
       "13          =J                                                NaN  255   212   \n",
       "...        ...                                                ...  ...   ...   \n",
       "19308      54F                                                NaN  153   255   \n",
       "19644      ?DC  reinterpreted by Colpron (2020) based on datin...  158   181   \n",
       "19687      ?DC  reinterpreted by Colpron (2020) based on datin...  158   181   \n",
       "19714      ?DC  reinterpreted by Colpron (2020) based on datin...  158   181   \n",
       "19968      54F                                                NaN  153   255   \n",
       "\n",
       "      BLUE            ASSEMBLAGE     Shape_Leng    Shape_Area  \\\n",
       "0      204             Finlayson     998.016093  4.274125e+04   \n",
       "1      204             Finlayson    1906.989447  1.367140e+05   \n",
       "2        0               Klinkit    2642.328514  1.144436e+05   \n",
       "4      215               Snowcap    5272.769697  1.475113e+06   \n",
       "13     128            Jones Lake    2369.769736  3.444644e+05   \n",
       "...    ...                   ...            ...           ...   \n",
       "19308  204             Finlayson  144795.241736  1.921797e+08   \n",
       "19644  138  Dawson-Clinton Creek    6880.477650  3.832461e+05   \n",
       "19687  138  Dawson-Clinton Creek    8551.901535  1.221372e+06   \n",
       "19714  138  Dawson-Clinton Creek    3965.633551  3.727922e+05   \n",
       "19968  204             Finlayson   91718.874913  1.544796e+08   \n",
       "\n",
       "                                                geometry  \n",
       "0      POLYGON ((531183.845 611558.105, 531195.448 61...  \n",
       "1      POLYGON ((532092.750 611820.380, 532086.501 61...  \n",
       "2      POLYGON ((531296.306 611894.010, 531293.212 61...  \n",
       "4      POLYGON ((555885.666 612601.816, 555895.985 61...  \n",
       "13     POLYGON ((546568.370 614211.940, 546608.500 61...  \n",
       "...                                                  ...  \n",
       "19308  POLYGON ((112477.543 1147140.874, 112539.113 1...  \n",
       "19644  POLYGON ((100905.531 1153612.630, 101023.920 1...  \n",
       "19687  POLYGON ((96801.380 1154509.880, 97127.880 115...  \n",
       "19714  POLYGON ((96454.440 1154787.380, 96570.210 115...  \n",
       "19968  POLYGON ((97689.430 1158922.001, 97806.580 115...  \n",
       "\n",
       "[4377 rows x 40 columns]"
      ]
     },
     "execution_count": 51,
     "metadata": {},
     "output_type": "execute_result"
    }
   ],
   "source": [
    "Rock_finder_table(Yukon, 'ROCK_CLASS','metamorphic')"
   ]
  },
  {
   "cell_type": "markdown",
   "id": "d4fb24e4-9a6f-41c8-b02d-a7a56c522436",
   "metadata": {},
   "source": [
    "Step 10: Reset Function?"
   ]
  },
  {
   "cell_type": "code",
   "execution_count": null,
   "id": "bc1392ea-858b-4d7b-a220-162a0b49a56f",
   "metadata": {
    "tags": []
   },
   "outputs": [],
   "source": [
    "# Code here"
   ]
  },
  {
   "cell_type": "markdown",
   "id": "1fc0208e-48f8-4667-98e3-b0bfb9690da9",
   "metadata": {},
   "source": [
    "    Ideally this would reset previous function"
   ]
  },
  {
   "cell_type": "markdown",
   "id": "14c6138d-650d-471d-97f1-1b58a8585e2b",
   "metadata": {},
   "source": [
    "Step 11: Creating Requirements File"
   ]
  },
  {
   "cell_type": "code",
   "execution_count": null,
   "id": "caecc2be-0de4-4fd9-9b2e-eda93fd869fb",
   "metadata": {},
   "outputs": [],
   "source": [
    "session_info.show()"
   ]
  }
 ],
 "metadata": {
  "kernelspec": {
   "display_name": "Python 3 (ipykernel)",
   "language": "python",
   "name": "python3"
  },
  "language_info": {
   "codemirror_mode": {
    "name": "ipython",
    "version": 3
   },
   "file_extension": ".py",
   "mimetype": "text/x-python",
   "name": "python",
   "nbconvert_exporter": "python",
   "pygments_lexer": "ipython3",
   "version": "3.11.1"
  }
 },
 "nbformat": 4,
 "nbformat_minor": 5
}
