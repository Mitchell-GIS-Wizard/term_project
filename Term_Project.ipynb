{
 "cells": [
  {
   "cell_type": "markdown",
   "id": "27b20e6a-6d2c-4feb-942b-5b9c95b8979a",
   "metadata": {
    "tags": []
   },
   "source": [
    "Step 1: Installing Required Programs"
   ]
  },
  {
   "cell_type": "code",
   "execution_count": 95,
   "id": "0312e009-2667-4190-bb54-446732d0f044",
   "metadata": {
    "tags": []
   },
   "outputs": [
    {
     "name": "stdout",
     "output_type": "stream",
     "text": [
      "\u001b[31mERROR: Could not find a version that satisfies the requirement Requirements (from versions: none)\u001b[0m\u001b[31m\n",
      "\u001b[0m\u001b[31mERROR: No matching distribution found for Requirements\u001b[0m\u001b[31m\n",
      "\u001b[0m\n",
      "\u001b[1m[\u001b[0m\u001b[34;49mnotice\u001b[0m\u001b[1;39;49m]\u001b[0m\u001b[39;49m A new release of pip available: \u001b[0m\u001b[31;49m22.3.1\u001b[0m\u001b[39;49m -> \u001b[0m\u001b[32;49m23.0.1\u001b[0m\n",
      "\u001b[1m[\u001b[0m\u001b[34;49mnotice\u001b[0m\u001b[1;39;49m]\u001b[0m\u001b[39;49m To update, run: \u001b[0m\u001b[32;49mpip install --upgrade pip\u001b[0m\n"
     ]
    }
   ],
   "source": [
    "!pip install geopandas\n",
    "!pip install folium\n",
    "!pip install matplotlib\n",
    "!pip install mapclassify\n",
    "!pip install session-info"
   ]
  },
  {
   "cell_type": "markdown",
   "id": "530315a6-f476-4440-a8f6-d7e5652036aa",
   "metadata": {},
   "source": [
    "Step 2: Importing Packages"
   ]
  },
  {
   "cell_type": "code",
   "execution_count": 2,
   "id": "beeb055e-a0b9-4217-b393-2874cf5ef4ca",
   "metadata": {
    "tags": []
   },
   "outputs": [],
   "source": [
    "import pandas as pd\n",
    "import geopandas as gpd\n",
    "import folium\n",
    "import matplotlib\n",
    "import matplotlib.pyplot as plt\n",
    "import mapclassify\n",
    "import session_info"
   ]
  },
  {
   "cell_type": "markdown",
   "id": "184f5200-1815-41af-bd8a-720d629ba2f7",
   "metadata": {},
   "source": [
    "Step 3: Importing Provincial Shapefiles "
   ]
  },
  {
   "cell_type": "code",
   "execution_count": 84,
   "id": "2f7457e1-1012-4104-96bf-46dd722dffc9",
   "metadata": {
    "tags": []
   },
   "outputs": [],
   "source": [
    "Alberta = gpd.read_file('data/Alberta/bdrk_py_ll.shp')\n",
    "#British_Columbia = gpd.read_file('data/BC/BC_bedrock_ll83.shp')\n",
    "#Manitoba = gpd.read_file()\n",
    "#New_Brunswick = gpd.read_file()\n",
    "#Newfoundland_and_Labrador = gpd.read_file()\n",
    "#Northwest_Territories = gpd.read_file()\n",
    "#Nova_Sctoia = gpd.read_file()\n",
    "#Nunavut = gpd.read_file()\n",
    "#Ontario = gpd.read_file()\n",
    "#Prince_Edward_Island = gpd.read_file()\n",
    "#Quebec = gpd.read_file()\n",
    "#Saskatchewan = gpd.read_file()\n",
    "Yukon = gpd.read_file('data/Yukon/Bedrock_Geology_Jan_2022.shp')"
   ]
  },
  {
   "cell_type": "markdown",
   "id": "d824a0ce-f345-4a22-95a0-bfbc27d816f2",
   "metadata": {
    "tags": []
   },
   "source": [
    "Step 5: Convert all data to the same Cordinate System"
   ]
  },
  {
   "cell_type": "code",
   "execution_count": 92,
   "id": "c0fc3d4b-ec42-41f4-b4de-6e30f7a6918d",
   "metadata": {
    "tags": []
   },
   "outputs": [],
   "source": [
    "province_list= [Yukon, Alberta]\n",
    "reproject = 'EPSG:2950'\n",
    "for province in province_list:\n",
    "    province = province.to_crs(reproject)"
   ]
  },
  {
   "cell_type": "markdown",
   "id": "494ea675-8367-43f2-ab7e-67dd5e688a29",
   "metadata": {},
   "source": [
    "Step 6: Project Canadian Geological Data Function"
   ]
  },
  {
   "cell_type": "code",
   "execution_count": 10,
   "id": "06c7d1b8-afa9-41f3-8cd5-e6d48e4c7b07",
   "metadata": {
    "scrolled": true,
    "tags": []
   },
   "outputs": [],
   "source": [
    "def geological_finder_map(filename, column_display):\n",
    "    prov = filename\n",
    "    prov.explore(column=column_display)\n",
    "    return prov.explore(column=column_display)"
   ]
  },
  {
   "cell_type": "markdown",
   "id": "51d23a5b-40b8-47c3-82ef-2fe751f89c31",
   "metadata": {},
   "source": [
    "Step 7: User Function Input Map Query"
   ]
  },
  {
   "cell_type": "code",
   "execution_count": null,
   "id": "a37bc9e2-6f1d-4632-8582-e26a68df2092",
   "metadata": {},
   "outputs": [],
   "source": [
    "geological_finder_map(Yukon, 'ROCK_CLASS')"
   ]
  },
  {
   "cell_type": "markdown",
   "id": "67b74cca-a078-4a16-9b77-dadeceb4de49",
   "metadata": {
    "tags": []
   },
   "source": [
    "Step 8: Proejct Rock Type Function"
   ]
  },
  {
   "cell_type": "code",
   "execution_count": 60,
   "id": "4f4e09d2-5aed-4937-b0a8-012c286408bc",
   "metadata": {
    "tags": []
   },
   "outputs": [],
   "source": [
    "def rock_finder(prov, rock_col, rock_type):\n",
    "    query_map = prov[prov[rock_col]==(rock_type)]\n",
    "    return query_map.explore()"
   ]
  },
  {
   "cell_type": "markdown",
   "id": "a5550ad5-eea9-49a2-97ad-5d811e716368",
   "metadata": {},
   "source": [
    "Step 9: User Input Rock Finder"
   ]
  },
  {
   "cell_type": "code",
   "execution_count": 63,
   "id": "2b0b1a4c-a8e7-416c-bed2-1b5816edd0b7",
   "metadata": {
    "tags": []
   },
   "outputs": [],
   "source": [
    "rock_finder(Yukon, 'ROCK_CLASS', 'metamorphic')"
   ]
  },
  {
   "cell_type": "markdown",
   "id": "b9f0d53c-d307-4b30-8ddb-38385bf31095",
   "metadata": {},
   "source": [
    "Step 10: Dataframe Function"
   ]
  },
  {
   "cell_type": "code",
   "execution_count": 65,
   "id": "1e5c5029-15c7-492e-9da0-44209c49ad53",
   "metadata": {
    "tags": []
   },
   "outputs": [],
   "source": [
    "def Rock_finder_table(prov, classes, rock_type): \n",
    "    query_df = prov[prov[classes] == rock_type]\n",
    "    return query_df"
   ]
  },
  {
   "cell_type": "markdown",
   "id": "e9ba95e0-2580-4fee-ac8e-d60e1800cd67",
   "metadata": {},
   "source": [
    "Step 11: User Input for Dataframe Query"
   ]
  },
  {
   "cell_type": "code",
   "execution_count": 68,
   "id": "78f1fe95-4955-46e0-98b1-f11fe46a10a2",
   "metadata": {
    "tags": []
   },
   "outputs": [],
   "source": [
    "Rock_finder_table(Yukon, 'ROCK_CLASS','sedimentary')"
   ]
  },
  {
   "cell_type": "markdown",
   "id": "d4fb24e4-9a6f-41c8-b02d-a7a56c522436",
   "metadata": {},
   "source": [
    "Step 12: Reset Function?"
   ]
  },
  {
   "cell_type": "code",
   "execution_count": null,
   "id": "bc1392ea-858b-4d7b-a220-162a0b49a56f",
   "metadata": {
    "tags": []
   },
   "outputs": [],
   "source": [
    "# Code here"
   ]
  },
  {
   "cell_type": "markdown",
   "id": "1fc0208e-48f8-4667-98e3-b0bfb9690da9",
   "metadata": {},
   "source": [
    "    Ideally this would reset previous function"
   ]
  },
  {
   "cell_type": "markdown",
   "id": "14c6138d-650d-471d-97f1-1b58a8585e2b",
   "metadata": {},
   "source": [
    "Step 13: Creating Requirements File"
   ]
  },
  {
   "cell_type": "code",
   "execution_count": null,
   "id": "caecc2be-0de4-4fd9-9b2e-eda93fd869fb",
   "metadata": {},
   "outputs": [],
   "source": [
    "session_info.show()"
   ]
  }
 ],
 "metadata": {
  "kernelspec": {
   "display_name": "Python 3 (ipykernel)",
   "language": "python",
   "name": "python3"
  },
  "language_info": {
   "codemirror_mode": {
    "name": "ipython",
    "version": 3
   },
   "file_extension": ".py",
   "mimetype": "text/x-python",
   "name": "python",
   "nbconvert_exporter": "python",
   "pygments_lexer": "ipython3",
   "version": "3.11.1"
  }
 },
 "nbformat": 4,
 "nbformat_minor": 5
}
