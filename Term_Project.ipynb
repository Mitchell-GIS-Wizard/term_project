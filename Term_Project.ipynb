{
 "cells": [
  {
   "cell_type": "markdown",
   "id": "27b20e6a-6d2c-4feb-942b-5b9c95b8979a",
   "metadata": {
    "tags": []
   },
   "source": [
    "Step 1: Installing Required Programs"
   ]
  },
  {
   "cell_type": "code",
   "execution_count": 1,
   "id": "0312e009-2667-4190-bb54-446732d0f044",
   "metadata": {
    "tags": []
   },
   "outputs": [
    {
     "name": "stdout",
     "output_type": "stream",
     "text": [
      "Requirement already satisfied: geopandas in ./venv3.11.1/lib/python3.11/site-packages (0.12.2)\n",
      "Requirement already satisfied: pandas>=1.0.0 in ./venv3.11.1/lib/python3.11/site-packages (from geopandas) (1.5.3)\n",
      "Requirement already satisfied: shapely>=1.7 in ./venv3.11.1/lib/python3.11/site-packages (from geopandas) (2.0.1)\n",
      "Requirement already satisfied: fiona>=1.8 in ./venv3.11.1/lib/python3.11/site-packages (from geopandas) (1.9.2)\n",
      "Requirement already satisfied: pyproj>=2.6.1.post1 in ./venv3.11.1/lib/python3.11/site-packages (from geopandas) (3.4.1)\n",
      "Requirement already satisfied: packaging in ./venv3.11.1/lib/python3.11/site-packages (from geopandas) (23.0)\n",
      "Requirement already satisfied: attrs>=19.2.0 in ./venv3.11.1/lib/python3.11/site-packages (from fiona>=1.8->geopandas) (22.2.0)\n",
      "Requirement already satisfied: certifi in ./venv3.11.1/lib/python3.11/site-packages (from fiona>=1.8->geopandas) (2022.12.7)\n",
      "Requirement already satisfied: click~=8.0 in ./venv3.11.1/lib/python3.11/site-packages (from fiona>=1.8->geopandas) (8.1.3)\n",
      "Requirement already satisfied: click-plugins>=1.0 in ./venv3.11.1/lib/python3.11/site-packages (from fiona>=1.8->geopandas) (1.1.1)\n",
      "Requirement already satisfied: cligj>=0.5 in ./venv3.11.1/lib/python3.11/site-packages (from fiona>=1.8->geopandas) (0.7.2)\n",
      "Requirement already satisfied: munch>=2.3.2 in ./venv3.11.1/lib/python3.11/site-packages (from fiona>=1.8->geopandas) (2.5.0)\n",
      "Requirement already satisfied: python-dateutil>=2.8.1 in ./venv3.11.1/lib/python3.11/site-packages (from pandas>=1.0.0->geopandas) (2.8.2)\n",
      "Requirement already satisfied: pytz>=2020.1 in ./venv3.11.1/lib/python3.11/site-packages (from pandas>=1.0.0->geopandas) (2022.7.1)\n",
      "Requirement already satisfied: numpy>=1.21.0 in ./venv3.11.1/lib/python3.11/site-packages (from pandas>=1.0.0->geopandas) (1.24.2)\n",
      "Requirement already satisfied: six in ./venv3.11.1/lib/python3.11/site-packages (from munch>=2.3.2->fiona>=1.8->geopandas) (1.16.0)\n",
      "\n",
      "\u001b[1m[\u001b[0m\u001b[34;49mnotice\u001b[0m\u001b[1;39;49m]\u001b[0m\u001b[39;49m A new release of pip available: \u001b[0m\u001b[31;49m22.3.1\u001b[0m\u001b[39;49m -> \u001b[0m\u001b[32;49m23.0.1\u001b[0m\n",
      "\u001b[1m[\u001b[0m\u001b[34;49mnotice\u001b[0m\u001b[1;39;49m]\u001b[0m\u001b[39;49m To update, run: \u001b[0m\u001b[32;49mpip install --upgrade pip\u001b[0m\n",
      "Requirement already satisfied: folium in ./venv3.11.1/lib/python3.11/site-packages (0.14.0)\n",
      "Requirement already satisfied: branca>=0.6.0 in ./venv3.11.1/lib/python3.11/site-packages (from folium) (0.6.0)\n",
      "Requirement already satisfied: jinja2>=2.9 in ./venv3.11.1/lib/python3.11/site-packages (from folium) (3.1.2)\n",
      "Requirement already satisfied: numpy in ./venv3.11.1/lib/python3.11/site-packages (from folium) (1.24.2)\n",
      "Requirement already satisfied: requests in ./venv3.11.1/lib/python3.11/site-packages (from folium) (2.28.2)\n",
      "Requirement already satisfied: MarkupSafe>=2.0 in ./venv3.11.1/lib/python3.11/site-packages (from jinja2>=2.9->folium) (2.1.2)\n",
      "Requirement already satisfied: charset-normalizer<4,>=2 in ./venv3.11.1/lib/python3.11/site-packages (from requests->folium) (3.1.0)\n",
      "Requirement already satisfied: idna<4,>=2.5 in ./venv3.11.1/lib/python3.11/site-packages (from requests->folium) (3.4)\n",
      "Requirement already satisfied: urllib3<1.27,>=1.21.1 in ./venv3.11.1/lib/python3.11/site-packages (from requests->folium) (1.26.15)\n",
      "Requirement already satisfied: certifi>=2017.4.17 in ./venv3.11.1/lib/python3.11/site-packages (from requests->folium) (2022.12.7)\n",
      "\n",
      "\u001b[1m[\u001b[0m\u001b[34;49mnotice\u001b[0m\u001b[1;39;49m]\u001b[0m\u001b[39;49m A new release of pip available: \u001b[0m\u001b[31;49m22.3.1\u001b[0m\u001b[39;49m -> \u001b[0m\u001b[32;49m23.0.1\u001b[0m\n",
      "\u001b[1m[\u001b[0m\u001b[34;49mnotice\u001b[0m\u001b[1;39;49m]\u001b[0m\u001b[39;49m To update, run: \u001b[0m\u001b[32;49mpip install --upgrade pip\u001b[0m\n",
      "Requirement already satisfied: matplotlib in ./venv3.11.1/lib/python3.11/site-packages (3.7.1)\n",
      "Requirement already satisfied: contourpy>=1.0.1 in ./venv3.11.1/lib/python3.11/site-packages (from matplotlib) (1.0.7)\n",
      "Requirement already satisfied: cycler>=0.10 in ./venv3.11.1/lib/python3.11/site-packages (from matplotlib) (0.11.0)\n",
      "Requirement already satisfied: fonttools>=4.22.0 in ./venv3.11.1/lib/python3.11/site-packages (from matplotlib) (4.39.2)\n",
      "Requirement already satisfied: kiwisolver>=1.0.1 in ./venv3.11.1/lib/python3.11/site-packages (from matplotlib) (1.4.4)\n",
      "Requirement already satisfied: numpy>=1.20 in ./venv3.11.1/lib/python3.11/site-packages (from matplotlib) (1.24.2)\n",
      "Requirement already satisfied: packaging>=20.0 in ./venv3.11.1/lib/python3.11/site-packages (from matplotlib) (23.0)\n",
      "Requirement already satisfied: pillow>=6.2.0 in ./venv3.11.1/lib/python3.11/site-packages (from matplotlib) (9.4.0)\n",
      "Requirement already satisfied: pyparsing>=2.3.1 in ./venv3.11.1/lib/python3.11/site-packages (from matplotlib) (3.0.9)\n",
      "Requirement already satisfied: python-dateutil>=2.7 in ./venv3.11.1/lib/python3.11/site-packages (from matplotlib) (2.8.2)\n",
      "Requirement already satisfied: six>=1.5 in ./venv3.11.1/lib/python3.11/site-packages (from python-dateutil>=2.7->matplotlib) (1.16.0)\n",
      "\n",
      "\u001b[1m[\u001b[0m\u001b[34;49mnotice\u001b[0m\u001b[1;39;49m]\u001b[0m\u001b[39;49m A new release of pip available: \u001b[0m\u001b[31;49m22.3.1\u001b[0m\u001b[39;49m -> \u001b[0m\u001b[32;49m23.0.1\u001b[0m\n",
      "\u001b[1m[\u001b[0m\u001b[34;49mnotice\u001b[0m\u001b[1;39;49m]\u001b[0m\u001b[39;49m To update, run: \u001b[0m\u001b[32;49mpip install --upgrade pip\u001b[0m\n",
      "Requirement already satisfied: mapclassify in ./venv3.11.1/lib/python3.11/site-packages (2.5.0)\n",
      "Requirement already satisfied: scipy>=1.0 in ./venv3.11.1/lib/python3.11/site-packages (from mapclassify) (1.10.1)\n",
      "Requirement already satisfied: numpy>=1.3 in ./venv3.11.1/lib/python3.11/site-packages (from mapclassify) (1.24.2)\n",
      "Requirement already satisfied: scikit-learn in ./venv3.11.1/lib/python3.11/site-packages (from mapclassify) (1.2.2)\n",
      "Requirement already satisfied: pandas>=1.0 in ./venv3.11.1/lib/python3.11/site-packages (from mapclassify) (1.5.3)\n",
      "Requirement already satisfied: networkx in ./venv3.11.1/lib/python3.11/site-packages (from mapclassify) (3.0)\n",
      "Requirement already satisfied: python-dateutil>=2.8.1 in ./venv3.11.1/lib/python3.11/site-packages (from pandas>=1.0->mapclassify) (2.8.2)\n",
      "Requirement already satisfied: pytz>=2020.1 in ./venv3.11.1/lib/python3.11/site-packages (from pandas>=1.0->mapclassify) (2022.7.1)\n",
      "Requirement already satisfied: joblib>=1.1.1 in ./venv3.11.1/lib/python3.11/site-packages (from scikit-learn->mapclassify) (1.2.0)\n",
      "Requirement already satisfied: threadpoolctl>=2.0.0 in ./venv3.11.1/lib/python3.11/site-packages (from scikit-learn->mapclassify) (3.1.0)\n",
      "Requirement already satisfied: six>=1.5 in ./venv3.11.1/lib/python3.11/site-packages (from python-dateutil>=2.8.1->pandas>=1.0->mapclassify) (1.16.0)\n",
      "\n",
      "\u001b[1m[\u001b[0m\u001b[34;49mnotice\u001b[0m\u001b[1;39;49m]\u001b[0m\u001b[39;49m A new release of pip available: \u001b[0m\u001b[31;49m22.3.1\u001b[0m\u001b[39;49m -> \u001b[0m\u001b[32;49m23.0.1\u001b[0m\n",
      "\u001b[1m[\u001b[0m\u001b[34;49mnotice\u001b[0m\u001b[1;39;49m]\u001b[0m\u001b[39;49m To update, run: \u001b[0m\u001b[32;49mpip install --upgrade pip\u001b[0m\n",
      "Requirement already satisfied: session-info in ./venv3.11.1/lib/python3.11/site-packages (1.0.0)\n",
      "Requirement already satisfied: stdlib_list in ./venv3.11.1/lib/python3.11/site-packages (from session-info) (0.8.0)\n",
      "\n",
      "\u001b[1m[\u001b[0m\u001b[34;49mnotice\u001b[0m\u001b[1;39;49m]\u001b[0m\u001b[39;49m A new release of pip available: \u001b[0m\u001b[31;49m22.3.1\u001b[0m\u001b[39;49m -> \u001b[0m\u001b[32;49m23.0.1\u001b[0m\n",
      "\u001b[1m[\u001b[0m\u001b[34;49mnotice\u001b[0m\u001b[1;39;49m]\u001b[0m\u001b[39;49m To update, run: \u001b[0m\u001b[32;49mpip install --upgrade pip\u001b[0m\n"
     ]
    }
   ],
   "source": [
    "!pip install geopandas\n",
    "!pip install folium\n",
    "!pip install matplotlib\n",
    "!pip install mapclassify\n",
    "!pip install session-info"
   ]
  },
  {
   "cell_type": "markdown",
   "id": "530315a6-f476-4440-a8f6-d7e5652036aa",
   "metadata": {},
   "source": [
    "Step 2: Importing Packages"
   ]
  },
  {
   "cell_type": "code",
   "execution_count": 2,
   "id": "beeb055e-a0b9-4217-b393-2874cf5ef4ca",
   "metadata": {
    "tags": []
   },
   "outputs": [],
   "source": [
    "import pandas as pd\n",
    "import geopandas as gpd\n",
    "import folium\n",
    "import matplotlib\n",
    "import mapclassify\n",
    "import session_info"
   ]
  },
  {
   "cell_type": "markdown",
   "id": "184f5200-1815-41af-bd8a-720d629ba2f7",
   "metadata": {},
   "source": [
    "Step 2: Importing Provincial Shapefiles "
   ]
  },
  {
   "cell_type": "code",
   "execution_count": null,
   "id": "2f7457e1-1012-4104-96bf-46dd722dffc9",
   "metadata": {
    "tags": []
   },
   "outputs": [],
   "source": [
    "Alberta = gpd.read_file('Alberta/bdrk_py_ll.shp')\n",
    "British_Columbia = gpd.read_file('BC/BC_bedrock_ll83.shp')\n",
    "#Manitoba = gpd.read_file()\n",
    "#New_Brunswick = gpd.read_file()\n",
    "#Newfoundland_and_Labrador = gpd.read_file()\n",
    "#Northwest_Territories = gpd.read_file()\n",
    "#Nova_Sctoia = gpd.read_file()\n",
    "#Nunavut = gpd.read_file()\n",
    "#Ontario = gpd.read_file()\n",
    "#Prince_Edward_Island = gpd.read_file()\n",
    "#Quebec = gpd.read_file()\n",
    "#Saskatchewan = gpd.read_file()\n",
    "Yukon = gpd.read_file('Yukon/Bedrock_Geology_Jan_2022.shp')"
   ]
  },
  {
   "cell_type": "code",
   "execution_count": null,
   "id": "a4d15597-d422-4f3f-ac97-8ef3fdf105e6",
   "metadata": {
    "tags": []
   },
   "outputs": [],
   "source": [
    "Alberta = Alberta.to_crs('EPSG:2950')\n",
    "British_Columbia = British_Columbia.to_crs('EPSG:2950')\n",
    "West_Coast = gpd.pd.concat([Alberta, British_Columbia])\n",
    "West_Coast.to_file('west_coast.shp')"
   ]
  },
  {
   "cell_type": "markdown",
   "id": "d824a0ce-f345-4a22-95a0-bfbc27d816f2",
   "metadata": {},
   "source": [
    "Step 3: Convert all data to the same Cordinate System"
   ]
  },
  {
   "cell_type": "code",
   "execution_count": null,
   "id": "c0fc3d4b-ec42-41f4-b4de-6e30f7a6918d",
   "metadata": {},
   "outputs": [],
   "source": [
    "#province_list = ['Alberta','British_Columbia','Manitoba','New_Brunswick','Newfoundland_and_Labrador','Northwest_Territories','Nova_Scotia','Nunavut','Ontario','Prince_Edward_Island','Quebec','Saskatchewan','Yukon']\n",
    "\n",
    "#for province in province_list:\n",
    "#    province = province.to_crs('EPSG:2950')"
   ]
  },
  {
   "cell_type": "markdown",
   "id": "07285a31-ae76-4a3d-97aa-2ff8254cd8ba",
   "metadata": {},
   "source": [
    "Step 4: Projection Function"
   ]
  },
  {
   "cell_type": "code",
   "execution_count": null,
   "id": "06c7d1b8-afa9-41f3-8cd5-e6d48e4c7b07",
   "metadata": {
    "scrolled": true,
    "tags": []
   },
   "outputs": [],
   "source": [
    "#Code here\n",
    "Yukon.explore(column='ROCK_CLASS')"
   ]
  },
  {
   "cell_type": "markdown",
   "id": "51d23a5b-40b8-47c3-82ef-2fe751f89c31",
   "metadata": {},
   "source": [
    "Step 5: User Function Input"
   ]
  },
  {
   "cell_type": "code",
   "execution_count": null,
   "id": "a37bc9e2-6f1d-4632-8582-e26a68df2092",
   "metadata": {},
   "outputs": [],
   "source": [
    "#Code here"
   ]
  },
  {
   "cell_type": "markdown",
   "id": "b9f0d53c-d307-4b30-8ddb-38385bf31095",
   "metadata": {},
   "source": [
    "Step 6: Dataframe Function"
   ]
  },
  {
   "cell_type": "code",
   "execution_count": null,
   "id": "1e5c5029-15c7-492e-9da0-44209c49ad53",
   "metadata": {
    "tags": []
   },
   "outputs": [],
   "source": [
    "#Code here"
   ]
  },
  {
   "cell_type": "markdown",
   "id": "d4fb24e4-9a6f-41c8-b02d-a7a56c522436",
   "metadata": {},
   "source": [
    "Step 7: Reset Function?"
   ]
  },
  {
   "cell_type": "code",
   "execution_count": null,
   "id": "bc1392ea-858b-4d7b-a220-162a0b49a56f",
   "metadata": {
    "tags": []
   },
   "outputs": [],
   "source": [
    "# Code here"
   ]
  },
  {
   "cell_type": "markdown",
   "id": "1fc0208e-48f8-4667-98e3-b0bfb9690da9",
   "metadata": {},
   "source": [
    "    Ideally this would reset previous function"
   ]
  },
  {
   "cell_type": "markdown",
   "id": "14c6138d-650d-471d-97f1-1b58a8585e2b",
   "metadata": {},
   "source": [
    "Step 8: Creating Requirements File"
   ]
  },
  {
   "cell_type": "code",
   "execution_count": 3,
   "id": "caecc2be-0de4-4fd9-9b2e-eda93fd869fb",
   "metadata": {},
   "outputs": [
    {
     "data": {
      "text/html": [
       "<details>\n",
       "<summary>Click to view session information</summary>\n",
       "<pre>\n",
       "-----\n",
       "folium              0.14.0\n",
       "geopandas           0.12.2\n",
       "mapclassify         2.5.0\n",
       "matplotlib          3.7.1\n",
       "pandas              1.5.3\n",
       "session_info        1.0.0\n",
       "-----\n",
       "</pre>\n",
       "<details>\n",
       "<summary>Click to view modules imported as dependencies</summary>\n",
       "<pre>\n",
       "PIL                 9.4.0\n",
       "anyio               NA\n",
       "appnope             0.1.3\n",
       "arrow               1.2.3\n",
       "asttokens           NA\n",
       "attr                22.2.0\n",
       "babel               2.12.1\n",
       "backcall            0.2.0\n",
       "branca              0.6.0\n",
       "certifi             2022.12.07\n",
       "cffi                1.15.1\n",
       "charset_normalizer  3.1.0\n",
       "comm                0.1.3\n",
       "cycler              0.10.0\n",
       "cython_runtime      NA\n",
       "dateutil            2.8.2\n",
       "debugpy             1.6.6\n",
       "decorator           5.1.1\n",
       "defusedxml          0.7.1\n",
       "executing           1.2.0\n",
       "fastjsonschema      NA\n",
       "fqdn                NA\n",
       "idna                3.4\n",
       "ipykernel           6.22.0\n",
       "ipython_genutils    0.2.0\n",
       "isoduration         NA\n",
       "jedi                0.18.2\n",
       "jinja2              3.1.2\n",
       "joblib              1.2.0\n",
       "json5               NA\n",
       "jsonpointer         2.3\n",
       "jsonschema          4.17.3\n",
       "jupyter_events      0.6.3\n",
       "jupyter_server      2.5.0\n",
       "jupyterlab_server   2.20.0\n",
       "kiwisolver          1.4.4\n",
       "markupsafe          2.1.2\n",
       "mpl_toolkits        NA\n",
       "nbformat            5.8.0\n",
       "numpy               1.24.2\n",
       "packaging           23.0\n",
       "parso               0.8.3\n",
       "pexpect             4.8.0\n",
       "pickleshare         0.7.5\n",
       "pkg_resources       NA\n",
       "platformdirs        3.1.1\n",
       "prometheus_client   NA\n",
       "prompt_toolkit      3.0.38\n",
       "psutil              5.9.4\n",
       "ptyprocess          0.7.0\n",
       "pure_eval           0.2.2\n",
       "pvectorc            NA\n",
       "pydev_ipython       NA\n",
       "pydevconsole        NA\n",
       "pydevd              2.9.5\n",
       "pydevd_file_utils   NA\n",
       "pydevd_plugins      NA\n",
       "pydevd_tracing      NA\n",
       "pygments            2.14.0\n",
       "pyparsing           3.0.9\n",
       "pyproj              3.4.1\n",
       "pyrsistent          NA\n",
       "pythonjsonlogger    NA\n",
       "pytz                2022.7.1\n",
       "requests            2.28.2\n",
       "rfc3339_validator   0.1.4\n",
       "rfc3986_validator   0.1.1\n",
       "scipy               1.10.1\n",
       "send2trash          NA\n",
       "setuptools          65.5.0\n",
       "shapely             2.0.1\n",
       "six                 1.16.0\n",
       "sklearn             1.2.2\n",
       "sniffio             1.3.0\n",
       "stack_data          0.6.2\n",
       "threadpoolctl       3.1.0\n",
       "tornado             6.2\n",
       "traitlets           5.9.0\n",
       "uri_template        NA\n",
       "urllib3             1.26.15\n",
       "wcwidth             0.2.6\n",
       "webcolors           1.11.1\n",
       "websocket           1.5.1\n",
       "yaml                6.0\n",
       "zmq                 25.0.2\n",
       "zoneinfo            NA\n",
       "</pre>\n",
       "</details> <!-- seems like this ends pre, so might as well be explicit -->\n",
       "<pre>\n",
       "-----\n",
       "IPython             8.11.0\n",
       "jupyter_client      8.1.0\n",
       "jupyter_core        5.3.0\n",
       "jupyterlab          3.6.2\n",
       "notebook            6.5.3\n",
       "-----\n",
       "Python 3.11.1 (v3.11.1:a7a450f84a, Dec  6 2022, 15:24:06) [Clang 13.0.0 (clang-1300.0.29.30)]\n",
       "macOS-12.0.1-x86_64-i386-64bit\n",
       "-----\n",
       "Session information updated at 2023-03-26 13:30\n",
       "</pre>\n",
       "</details>"
      ],
      "text/plain": [
       "<IPython.core.display.HTML object>"
      ]
     },
     "execution_count": 3,
     "metadata": {},
     "output_type": "execute_result"
    }
   ],
   "source": [
    "session_info.show()"
   ]
  },
  {
   "cell_type": "code",
   "execution_count": null,
   "id": "9ba7ed1e-7be3-419a-9ff5-2e2d54864c2f",
   "metadata": {},
   "outputs": [],
   "source": []
  }
 ],
 "metadata": {
  "kernelspec": {
   "display_name": "Python 3 (ipykernel)",
   "language": "python",
   "name": "python3"
  },
  "language_info": {
   "codemirror_mode": {
    "name": "ipython",
    "version": 3
   },
   "file_extension": ".py",
   "mimetype": "text/x-python",
   "name": "python",
   "nbconvert_exporter": "python",
   "pygments_lexer": "ipython3",
   "version": "3.11.1"
  }
 },
 "nbformat": 4,
 "nbformat_minor": 5
}
