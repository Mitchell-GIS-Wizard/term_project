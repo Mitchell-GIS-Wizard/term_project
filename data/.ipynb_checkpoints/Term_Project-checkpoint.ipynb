{
 "cells": [
  {
   "cell_type": "markdown",
   "id": "27b20e6a-6d2c-4feb-942b-5b9c95b8979a",
   "metadata": {
    "tags": []
   },
   "source": [
    "Step 1: Installing Required Programs"
   ]
  },
  {
   "cell_type": "code",
   "execution_count": null,
   "id": "0312e009-2667-4190-bb54-446732d0f044",
   "metadata": {
    "tags": []
   },
   "outputs": [],
   "source": [
    "!pip install geopandas\n",
    "!pip install folium\n",
    "!pip install matplotlib\n",
    "!pip install mapclassify"
   ]
  },
  {
   "cell_type": "markdown",
   "id": "530315a6-f476-4440-a8f6-d7e5652036aa",
   "metadata": {},
   "source": [
    "Step 2: Importing Packages"
   ]
  },
  {
   "cell_type": "code",
   "execution_count": null,
   "id": "beeb055e-a0b9-4217-b393-2874cf5ef4ca",
   "metadata": {
    "tags": []
   },
   "outputs": [],
   "source": [
    "import pandas as pd\n",
    "import geopandas as gpd\n",
    "import folium\n",
    "import matplotlib\n",
    "import mapclassify"
   ]
  },
  {
   "cell_type": "markdown",
   "id": "184f5200-1815-41af-bd8a-720d629ba2f7",
   "metadata": {},
   "source": [
    "Step 2: Importing Provincial Shapefiles "
   ]
  },
  {
   "cell_type": "code",
   "execution_count": null,
   "id": "2f7457e1-1012-4104-96bf-46dd722dffc9",
   "metadata": {
    "tags": []
   },
   "outputs": [],
   "source": [
    "Alberta = gpd.read_file('Alberta/bdrk_py_ll.shp')\n",
    "British_Columbia = gpd.read_file('BC/BC_bedrock_ll83.shp')\n",
    "#Manitoba = gpd.read_file()\n",
    "#New_Brunswick = gpd.read_file()\n",
    "#Newfoundland_and_Labrador = gpd.read_file()\n",
    "#Northwest_Territories = gpd.read_file()\n",
    "#Nova_Sctoia = gpd.read_file()\n",
    "#Nunavut = gpd.read_file()\n",
    "#Ontario = gpd.read_file()\n",
    "#Prince_Edward_Island = gpd.read_file()\n",
    "#Quebec = gpd.read_file()\n",
    "#Saskatchewan = gpd.read_file()\n",
    "Yukon = gpd.read_file('Yukon/Bedrock_Geology_Jan_2022.shp')"
   ]
  },
  {
   "cell_type": "code",
   "execution_count": null,
   "id": "a4d15597-d422-4f3f-ac97-8ef3fdf105e6",
   "metadata": {
    "tags": []
   },
   "outputs": [],
   "source": [
    "Alberta = Alberta.to_crs('EPSG:2950')\n",
    "British_Columbia = British_Columbia.to_crs('EPSG:2950')\n",
    "West_Coast = gpd.pd.concat([Alberta, British_Columbia])\n",
    "West_Coast.to_file('west_coast.shp')"
   ]
  },
  {
   "cell_type": "markdown",
   "id": "d824a0ce-f345-4a22-95a0-bfbc27d816f2",
   "metadata": {},
   "source": [
    "Step 3: Convert all data to the same Cordinate System"
   ]
  },
  {
   "cell_type": "code",
   "execution_count": null,
   "id": "c0fc3d4b-ec42-41f4-b4de-6e30f7a6918d",
   "metadata": {},
   "outputs": [],
   "source": [
    "#province_list = ['Alberta','British_Columbia','Manitoba','New_Brunswick','Newfoundland_and_Labrador','Northwest_Territories','Nova_Scotia','Nunavut','Ontario','Prince_Edward_Island','Quebec','Saskatchewan','Yukon']\n",
    "\n",
    "#for province in province_list:\n",
    "#    province = province.to_crs('EPSG:2950')"
   ]
  },
  {
   "cell_type": "markdown",
   "id": "07285a31-ae76-4a3d-97aa-2ff8254cd8ba",
   "metadata": {},
   "source": [
    "Step 4: Projection Function"
   ]
  },
  {
   "cell_type": "code",
   "execution_count": null,
   "id": "06c7d1b8-afa9-41f3-8cd5-e6d48e4c7b07",
   "metadata": {
    "scrolled": true,
    "tags": []
   },
   "outputs": [],
   "source": [
    "#Code here\n",
    "Yukon.explore(column='ROCK_CLASS')"
   ]
  },
  {
   "cell_type": "markdown",
   "id": "51d23a5b-40b8-47c3-82ef-2fe751f89c31",
   "metadata": {},
   "source": [
    "Step 5: User Function Input"
   ]
  },
  {
   "cell_type": "code",
   "execution_count": null,
   "id": "a37bc9e2-6f1d-4632-8582-e26a68df2092",
   "metadata": {},
   "outputs": [],
   "source": [
    "#Code here"
   ]
  },
  {
   "cell_type": "markdown",
   "id": "b9f0d53c-d307-4b30-8ddb-38385bf31095",
   "metadata": {},
   "source": [
    "Step 6: Dataframe Function"
   ]
  },
  {
   "cell_type": "code",
   "execution_count": null,
   "id": "1e5c5029-15c7-492e-9da0-44209c49ad53",
   "metadata": {
    "tags": []
   },
   "outputs": [],
   "source": [
    "#Code here"
   ]
  },
  {
   "cell_type": "markdown",
   "id": "d4fb24e4-9a6f-41c8-b02d-a7a56c522436",
   "metadata": {},
   "source": [
    "Step 7: Reset Function?"
   ]
  },
  {
   "cell_type": "code",
   "execution_count": null,
   "id": "bc1392ea-858b-4d7b-a220-162a0b49a56f",
   "metadata": {
    "tags": []
   },
   "outputs": [],
   "source": [
    "# Code here"
   ]
  },
  {
   "cell_type": "markdown",
   "id": "1fc0208e-48f8-4667-98e3-b0bfb9690da9",
   "metadata": {},
   "source": [
    "    Ideally this would reset previous function"
   ]
  },
  {
   "cell_type": "code",
   "execution_count": null,
   "id": "b096f189-44dc-4d46-b1c8-934ca02b5855",
   "metadata": {},
   "outputs": [],
   "source": []
  }
 ],
 "metadata": {
  "kernelspec": {
   "display_name": "Python 3 (ipykernel)",
   "language": "python",
   "name": "python3"
  },
  "language_info": {
   "codemirror_mode": {
    "name": "ipython",
    "version": 3
   },
   "file_extension": ".py",
   "mimetype": "text/x-python",
   "name": "python",
   "nbconvert_exporter": "python",
   "pygments_lexer": "ipython3",
   "version": "3.11.1"
  }
 },
 "nbformat": 4,
 "nbformat_minor": 5
}
